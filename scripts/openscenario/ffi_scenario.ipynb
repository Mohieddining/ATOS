{
 "cells": [
  {
   "cell_type": "code",
   "execution_count": 194,
   "metadata": {},
   "outputs": [],
   "source": [
    "from scenariogeneration import xosc"
   ]
  },
  {
   "cell_type": "code",
   "execution_count": 195,
   "metadata": {},
   "outputs": [],
   "source": [
    "# Fixed parameters\n",
    "MONDEO_ID = \"1\"\n",
    "UFO_ID = \"2\"\n",
    "CARRIER_ID = \"3\"\n",
    "VIRTUAL_ID = \"4\"\n",
    "CAMERA_DRONE_ID = \"5\"\n",
    "MARKER_DRONE_ID = \"6\"\n",
    "\n",
    "CATALOG_PATH = \"../Catalogs/Vehicles\"\n",
    "CATALOG_NAME = \"VehicleCatalog\"\n",
    "MONDEO_CATALOG_NAME = \"mondeo\"\n",
    "UFO_CATALOG_NAME = \"humanetics\"\n",
    "CARRIER_CATALOG_NAME = \"flexible_target_carrier\"\n",
    "VIRTUAL_CATALOG_NAME = \"virtual_object\"\n",
    "CAMERA_DRONE_CATALOG_NAME = \"camera_drone\"\n",
    "MARKER_DRONE_CATALOG_NAME = \"marker_drone\"\n",
    "\n",
    "OPENDRIVE_PATH = \"../odr/ATOSFlexZoneCrossing.xodr\"\n",
    "SCENARIO_NAME = \"FLXZoneDemoScenario\"\n",
    "SCENARIO_FILE_NAME = SCENARIO_NAME + \".xosc\""
   ]
  },
  {
   "cell_type": "code",
   "execution_count": 196,
   "metadata": {},
   "outputs": [],
   "source": [
    "# Dynamic parameters\n",
    "mondeo_speed = 15 / 3.6 # m/s\n",
    "mondeo_slow_speed = 10 / 3.6 # m/s\n",
    "mondeo_acceleration = 0.51 # m/s^2\n",
    "mondeo_retardation = 2.17 # m/s^2\n",
    "mondeo_O1_point = xosc.LanePosition(83.5103988647461, 0, -1, 3)\n",
    "mondeo_trigger_positions = {\n",
    "\tUFO_ID: xosc.LanePosition(1.0940648317337036, 0, -1, 7),\n",
    "\tCARRIER_ID: xosc.LanePosition(1.0940648317337036, 0, -1, 7),\n",
    "\tVIRTUAL_ID: xosc.LanePosition(1.0940648317337036, 0, -1, 7),\n",
    "\tCAMERA_DRONE_ID: xosc.LanePosition(1.0940648317337036, 0, -1, 7),\n",
    "\tMARKER_DRONE_ID: xosc.LanePosition(1.0940648317337036, 0, -1, 7)\n",
    "}\n",
    "mondeo_slow_down_position = xosc.LanePosition(1.0940648317337036, 0, -1, 7)\n",
    "mondeo_accelerate_position = xosc.LanePosition(82, 0, 1, 0)\n",
    "mondeo_brake_position = xosc.LanePosition(68.76012420654297, 0, 1, 0)\n",
    "\n",
    "ufo_speed = 10 / 3.6 # m/s\n",
    "ufo_acceleration = 1.38 # m/s^2\n",
    "ufo_retardation = 1.83 # m/s^2\n",
    "ufo_O2_point = xosc.LanePosition(19.521028518676758, 0, 1, 1)\n",
    "ufo_brake_position = xosc.LanePosition(78.19840240478516, 0, 1, 0)\n",
    "\n",
    "carrier_speed = 15 / 3.6 # m/s\n",
    "carrier_acceleration = 1.12 # m/s^2\n",
    "carrier_retardation = 1.03 # m/s^2\n",
    "carrier_O3_point = xosc.LanePosition(44.70673370361328, 0, -1, 0)\n",
    "carrier_brake_position = xosc.LanePosition(6.957085132598877, 0, -1, 1)\n",
    "\n",
    "virtual_speed = 30 / 3.6 # m/s\n",
    "virtual_acceleration = 3.53 # m/s^2\n",
    "virtual_retardation = 10.32 # m/s^2\n",
    "virtual_O4_point = xosc.LanePosition(18.582534790039062, 0, 1, 0)\n",
    "virtual_brake_position = xosc.LanePosition(57.04560852050781, 0, 1, 0)\n",
    "\n",
    "camera_drone_speed = 15 / 3.6 # m/s\n",
    "camera_drone_acceleration = 1.76 # m/s^2\n",
    "camera_drone_retardation = 1.96 # m/s^2\n",
    "camera_drone_O5_point = xosc.LanePosition(13.252511024475098, 2.5, 1, 1)\n",
    "camera_drone_brake_position = xosc.LanePosition(66.29085540771484, 2.5, 1, 0)\n",
    "\n",
    "marker_drone_speed = virtual_speed # m/s\n",
    "marker_drone_acceleration = virtual_acceleration # m/s^2\n",
    "marker_drone_retardation = virtual_retardation # m/s^2\n",
    "marker_drone_O6_point = virtual_O4_point\n",
    "marker_drone_brake_position = virtual_brake_position\n",
    "\n",
    "denm_trigger_speed = 30 / 3.6 # m/s"
   ]
  },
  {
   "cell_type": "code",
   "execution_count": 197,
   "metadata": {},
   "outputs": [
    {
     "data": {
      "text/plain": [
       "<scenariogeneration.xosc.storyboard.ManeuverGroup at 0x7f1f69cf9c10>"
      ]
     },
     "execution_count": 197,
     "metadata": {},
     "output_type": "execute_result"
    }
   ],
   "source": [
    "# Preamble\n",
    "init = xosc.Init()\n",
    "osc_params = xosc.ParameterDeclarations()\n",
    "osc_catalogs = xosc.Catalog()\n",
    "osc_catalogs.add_catalog(CATALOG_NAME, CATALOG_PATH)\n",
    "osc_road_network = xosc.RoadNetwork(roadfile=OPENDRIVE_PATH)\n",
    "osc_entities = xosc.Entities()\n",
    "osc_storyboard = xosc.StoryBoard(init)\n",
    "osc_act = xosc.Act(\"start\")\n",
    "\n",
    "mondeo_maneuver_group = xosc.ManeuverGroup(MONDEO_ID + \",maneuver_group\")\n",
    "mondeo_maneuver = xosc.Maneuver(MONDEO_ID + \",maneuver\")\n",
    "mondeo_maneuver_group.add_actor(MONDEO_ID)\n",
    "ufo_maneuver_group = xosc.ManeuverGroup(UFO_ID + \",maneuver_group\")\n",
    "ufo_maneuver = xosc.Maneuver(UFO_ID + \",maneuver\")\n",
    "ufo_maneuver_group.add_actor(UFO_ID)\n",
    "carrier_maneuver_group = xosc.ManeuverGroup(CARRIER_ID + \",maneuver_group\")\n",
    "carrier_maneuver = xosc.Maneuver(CARRIER_ID + \",maneuver\")\n",
    "carrier_maneuver_group.add_actor(CARRIER_ID)\n",
    "virtual_maneuver_group = xosc.ManeuverGroup(VIRTUAL_ID + \",maneuver_group\")\n",
    "virtual_maneuver = xosc.Maneuver(VIRTUAL_ID + \",maneuver\")\n",
    "virtual_maneuver_group.add_actor(VIRTUAL_ID)\n",
    "camera_drone_maneuver_group = xosc.ManeuverGroup(CAMERA_DRONE_ID + \",maneuver_group\")\n",
    "camera_drone_maneuver = xosc.Maneuver(CAMERA_DRONE_ID + \",maneuver\")\n",
    "camera_drone_maneuver_group.add_actor(CAMERA_DRONE_ID)\n",
    "marker_drone_maneuver_group = xosc.ManeuverGroup(MARKER_DRONE_ID + \",maneuver_group\")\n",
    "marker_drone_maneuver = xosc.Maneuver(MARKER_DRONE_ID + \",maneuver\")\n",
    "marker_drone_maneuver_group.add_actor(MARKER_DRONE_ID)"
   ]
  },
  {
   "cell_type": "code",
   "execution_count": 198,
   "metadata": {},
   "outputs": [],
   "source": [
    "# Starting positions\n",
    "osc_entities.add_scenario_object(MONDEO_ID, xosc.CatalogReference(CATALOG_NAME, MONDEO_CATALOG_NAME))\n",
    "osc_entities.add_scenario_object(UFO_ID, xosc.CatalogReference(CATALOG_NAME, UFO_CATALOG_NAME))\n",
    "osc_entities.add_scenario_object(CARRIER_ID, xosc.CatalogReference(CATALOG_NAME, CARRIER_CATALOG_NAME))\n",
    "osc_entities.add_scenario_object(VIRTUAL_ID, xosc.CatalogReference(CATALOG_NAME, VIRTUAL_CATALOG_NAME))\n",
    "osc_entities.add_scenario_object(CAMERA_DRONE_ID, xosc.CatalogReference(CATALOG_NAME, CAMERA_DRONE_CATALOG_NAME))\n",
    "osc_entities.add_scenario_object(MARKER_DRONE_ID, xosc.CatalogReference(CATALOG_NAME, MARKER_DRONE_CATALOG_NAME))\n",
    "\n",
    "mondeo_start_teleport = xosc.TeleportAction(mondeo_O1_point)\n",
    "mondeo_set_speed = xosc.AbsoluteSpeedAction(\n",
    "\tmondeo_speed,\n",
    "\txosc.TransitionDynamics(\n",
    "\t\txosc.DynamicsShapes.linear,\n",
    "\t\txosc.DynamicsDimension.rate,\n",
    "\t\tmondeo_acceleration\n",
    "\t),\n",
    ")\n",
    "ufo_start_teleport = xosc.TeleportAction(ufo_O2_point)\n",
    "carrier_start_teleport = xosc.TeleportAction(carrier_O3_point)\n",
    "virtual_start_teleport = xosc.TeleportAction(virtual_O4_point)\n",
    "camera_drone_start_teleport = xosc.TeleportAction(camera_drone_O5_point)\n",
    "marker_drone_start_teleport = xosc.TeleportAction(marker_drone_O6_point)\n",
    "\n",
    "init.add_init_action(MONDEO_ID, mondeo_start_teleport)\n",
    "init.add_init_action(MONDEO_ID, mondeo_set_speed)\n",
    "init.add_init_action(UFO_ID, ufo_start_teleport)\n",
    "init.add_init_action(CARRIER_ID, carrier_start_teleport)\n",
    "init.add_init_action(VIRTUAL_ID, virtual_start_teleport)\n",
    "init.add_init_action(CAMERA_DRONE_ID, camera_drone_start_teleport)\n",
    "init.add_init_action(MARKER_DRONE_ID, marker_drone_start_teleport)"
   ]
  },
  {
   "cell_type": "code",
   "execution_count": 199,
   "metadata": {},
   "outputs": [
    {
     "data": {
      "text/plain": [
       "<scenariogeneration.xosc.storyboard.Maneuver at 0x7f1f69ba0a30>"
      ]
     },
     "execution_count": 199,
     "metadata": {},
     "output_type": "execute_result"
    }
   ],
   "source": [
    "# Mondeo movement profile:\n",
    "# accelerate to top speed,\n",
    "# slow down before turn,\n",
    "# turn,\n",
    "# accelerate to top speed,\n",
    "\n",
    "# Start moving\n",
    "times = []\n",
    "positions = [\n",
    "\txosc.LanePosition(83.5103988647461, 0, -1, 3),\n",
    "\txosc.LanePosition(100.95606231689453, 0, -1, 3),\n",
    "\txosc.LanePosition(1.0940648317337036, 0, -1, 7),\n",
    "\txosc.LanePosition(2.0940648317337036, 0, -1, 7),\n",
    "\txosc.LanePosition(3.0940648317337036, 0, -1, 7),\n",
    "\txosc.LanePosition(4.0940648317337036, 0, -1, 7),\n",
    "\txosc.LanePosition(5.0940648317337036, 0, -1, 7),\n",
    "\txosc.LanePosition(6.0940648317337036, 0, -1, 7),\n",
    "\txosc.LanePosition(7.0940648317337036, 0, -1, 7),\n",
    "\txosc.LanePosition(8.0940648317337036, 0, -1, 7),\n",
    "\txosc.LanePosition(82, 0, 1, 0),\n",
    "\txosc.LanePosition(80.36375427246094, 0, 1, 0),\n",
    "\txosc.LanePosition(68.76012420654297, 0, 1, 0),\n",
    "\txosc.LanePosition(64.20175170898438, 0, 1, 0),\n",
    "]\n",
    "polyline = xosc.Polyline(times, positions)\n",
    "trajectory = xosc.Trajectory(MONDEO_ID + \",init_follow_trajectory\", closed=False)\n",
    "trajectory.add_shape(polyline)\n",
    "mondeo_follow_trajectory = xosc.FollowTrajectoryAction(\n",
    "\ttrajectory,\n",
    "\txosc.FollowMode.position,\n",
    "\txosc.ReferenceContext.relative,\n",
    "\t1,\n",
    "\t0\n",
    ")\n",
    "mondeo_scenario_started =  xosc.ValueTrigger(\n",
    "\tMONDEO_ID + \",scenario_started\",\n",
    "\t0,\n",
    "\txosc.ConditionEdge.none,\n",
    "\txosc.SimulationTimeCondition(0, xosc.Rule.greaterThan)\n",
    ")\n",
    "mondeo_follow_trajectory_event = xosc.Event(\n",
    "\tMONDEO_ID + \",mondeo_follow_trajectory_event\",\n",
    "\txosc.Priority.parallel\n",
    ")\n",
    "mondeo_follow_trajectory_event.add_trigger(mondeo_scenario_started)\n",
    "mondeo_follow_trajectory_event.add_action(MONDEO_ID + \",init_follow_trajectory\", mondeo_follow_trajectory)\n",
    "mondeo_maneuver.add_event(mondeo_follow_trajectory_event)\n",
    "\n",
    "# Slow down\n",
    "mondeo_slow_down = xosc.AbsoluteSpeedAction(\n",
    "\tmondeo_slow_speed,\n",
    "\txosc.TransitionDynamics(\n",
    "\t\txosc.DynamicsShapes.linear,\n",
    "\t\txosc.DynamicsDimension.rate,\n",
    "\t\t-mondeo_retardation\n",
    "\t),\n",
    ")\n",
    "mondeo_reach_slow_down_position = xosc.EntityTrigger(\n",
    "\tMONDEO_ID + \",reach_slow_down_position\",\n",
    "\tdelay=0,\n",
    "\tconditionedge=xosc.ConditionEdge.none,\n",
    "\tentitycondition=xosc.ReachPositionCondition(mondeo_slow_down_position, 1),\n",
    "\ttriggerentity=MONDEO_ID\n",
    ")\n",
    "mondeo_slow_down_event = xosc.Event(\n",
    "\tMONDEO_ID + \",mondeo_slow_down_event\",\n",
    "\txosc.Priority.parallel\n",
    ")\n",
    "mondeo_slow_down_event.add_trigger(mondeo_reach_slow_down_position)\n",
    "mondeo_slow_down_event.add_action(MONDEO_ID + \",slow_down\", mondeo_slow_down)\n",
    "mondeo_maneuver.add_event(mondeo_slow_down_event)\n",
    "\n",
    "# Accelerate\n",
    "mondeo_accelerate = xosc.AbsoluteSpeedAction(\n",
    "\tmondeo_speed,\n",
    "\txosc.TransitionDynamics(\n",
    "\t\txosc.DynamicsShapes.linear,\n",
    "\t\txosc.DynamicsDimension.rate,\n",
    "\t\tmondeo_acceleration\n",
    "\t),\n",
    ")\n",
    "mondeo_reach_accelerate_position = xosc.EntityTrigger(\n",
    "\tMONDEO_ID + \",reach_accelerate_position\",\n",
    "\tdelay=0,\n",
    "\tconditionedge=xosc.ConditionEdge.none,\n",
    "\tentitycondition=xosc.ReachPositionCondition(mondeo_accelerate_position, 1),\n",
    "\ttriggerentity=MONDEO_ID\n",
    ")\n",
    "mondeo_accelerate_event = xosc.Event(\n",
    "\tMONDEO_ID + \",mondeo_accelerate_event\",\n",
    "\txosc.Priority.parallel\n",
    ")\n",
    "mondeo_accelerate_event.add_trigger(mondeo_reach_accelerate_position)\n",
    "mondeo_accelerate_event.add_action(MONDEO_ID + \",mondeo_accelerate\", mondeo_accelerate)\n",
    "mondeo_maneuver.add_event(mondeo_accelerate_event)\n",
    "\n",
    "# Brake\n",
    "mondeo_brake = xosc.AbsoluteSpeedAction(\n",
    "\t0,\n",
    "\txosc.TransitionDynamics(\n",
    "\t\txosc.DynamicsShapes.linear,\n",
    "\t\txosc.DynamicsDimension.rate,\n",
    "\t\t-mondeo_retardation\n",
    "\t),\n",
    ")\n",
    "mondeo_reach_brake_position = xosc.EntityTrigger(\n",
    "\tMONDEO_ID + \",reach_brake_position\",\n",
    "\tdelay=0,\n",
    "\tconditionedge=xosc.ConditionEdge.none,\n",
    "\tentitycondition=xosc.ReachPositionCondition(mondeo_brake_position, 1),\n",
    "\ttriggerentity=MONDEO_ID\n",
    ")\n",
    "mondeo_brake_event = xosc.Event(\n",
    "\tMONDEO_ID + \",mondeo_brake_event\",\n",
    "\txosc.Priority.parallel\n",
    ")\n",
    "mondeo_brake_event.add_trigger(mondeo_reach_brake_position)\n",
    "mondeo_brake_event.add_action(MONDEO_ID + \",brake_to_stop\", mondeo_brake)\n",
    "mondeo_maneuver.add_event(mondeo_brake_event)"
   ]
  },
  {
   "cell_type": "code",
   "execution_count": 200,
   "metadata": {},
   "outputs": [
    {
     "data": {
      "text/plain": [
       "<scenariogeneration.xosc.storyboard.Maneuver at 0x7f1f69ba0c70>"
      ]
     },
     "execution_count": 200,
     "metadata": {},
     "output_type": "execute_result"
    }
   ],
   "source": [
    "# UFO movement profile:\n",
    "# accelerate to top speed,\n",
    "# follow a trajectory,\n",
    "# then decelerate to a stop\n",
    "times = []\n",
    "positions = [\n",
    "\txosc.LanePosition(19.521028518676758, 0, 1, 1),\n",
    "\txosc.LanePosition(13.252511024475098, 0, 1, 1),\n",
    "\txosc.LanePosition(72.19840240478516, 0, 1, 0),\n",
    "\txosc.LanePosition(67.49223327636719, 0, 1, 0),\n",
    "]\n",
    "polyline = xosc.Polyline(times, positions)\n",
    "trajectory = xosc.Trajectory(UFO_ID + \",start_follow_trajectory\", closed=False)\n",
    "trajectory.add_shape(polyline)\n",
    "ufo_follow_trajectory = xosc.FollowTrajectoryAction(\n",
    "\ttrajectory,\n",
    "\txosc.FollowMode.position,\n",
    "\txosc.ReferenceContext.relative,\n",
    "\t1,\n",
    "\t0\n",
    ")\n",
    "ufo_set_speed = xosc.AbsoluteSpeedAction(\n",
    "\tufo_speed,\n",
    "\txosc.TransitionDynamics(\n",
    "\t\txosc.DynamicsShapes.linear,\n",
    "\t\txosc.DynamicsDimension.rate,\n",
    "\t\tufo_acceleration\n",
    "\t),\n",
    ")\n",
    "\n",
    "ufo_brake = xosc.AbsoluteSpeedAction(\n",
    "\t0,\n",
    "\txosc.TransitionDynamics(\n",
    "\t\txosc.DynamicsShapes.linear,\n",
    "\t\txosc.DynamicsDimension.rate,\n",
    "\t\t-ufo_retardation\n",
    "\t),\n",
    ")\n",
    "ufo_reach_stop_position = xosc.EntityTrigger(\n",
    "\tname=UFO_ID + \",reach_stop_position\",\n",
    "\tdelay=0,\n",
    "\tconditionedge=xosc.ConditionEdge.none,\n",
    "\tentitycondition=xosc.ReachPositionCondition(ufo_brake_position, 1),\n",
    "\ttriggerentity=UFO_ID\n",
    ")\n",
    "ufo_brake_event = xosc.Event(\n",
    "\tUFO_ID + \",brake_event\",\n",
    "\txosc.Priority.parallel\n",
    ")\n",
    "ufo_brake_event.add_trigger(ufo_reach_stop_position)\n",
    "ufo_brake_event.add_action(UFO_ID + \",brake_to_stop\", ufo_brake)\n",
    "ufo_maneuver.add_event(ufo_brake_event)"
   ]
  },
  {
   "cell_type": "code",
   "execution_count": 201,
   "metadata": {},
   "outputs": [
    {
     "data": {
      "text/plain": [
       "<scenariogeneration.xosc.storyboard.Maneuver at 0x7f1f69a70070>"
      ]
     },
     "execution_count": 201,
     "metadata": {},
     "output_type": "execute_result"
    }
   ],
   "source": [
    "# Carrier movement profile:\n",
    "# accelerate to top speed,\n",
    "# follow a trajectory,\n",
    "# then decelerate to a stop\n",
    "times = []\n",
    "positions = [\n",
    "\txosc.LanePosition(44.70673370361328, 0, -1, 0),\n",
    "\txosc.LanePosition(52.409610748291016, 0, -1, 0),\n",
    "\txosc.LanePosition(6.957085132598877, 0, -1, 1),\n",
    "\txosc.LanePosition(15.372483253479004, 0, -1, 1),\n",
    "]\n",
    "polyline = xosc.Polyline(times, positions)\n",
    "trajectory = xosc.Trajectory(CARRIER_ID + \",start_follow_trajectory\", closed=False)\n",
    "trajectory.add_shape(polyline)\n",
    "carrier_follow_trajectory = xosc.FollowTrajectoryAction(\n",
    "\ttrajectory,\n",
    "\txosc.FollowMode.position,\n",
    "\txosc.ReferenceContext.relative,\n",
    "\t1,\n",
    "\t0\n",
    ")\n",
    "carrier_set_speed = xosc.AbsoluteSpeedAction(\n",
    "\tcarrier_speed,\n",
    "\txosc.TransitionDynamics(\n",
    "\t\txosc.DynamicsShapes.linear,\n",
    "\t\txosc.DynamicsDimension.rate,\n",
    "\t\tcarrier_acceleration\n",
    "\t),\n",
    ")\n",
    "carrier_brake = xosc.AbsoluteSpeedAction(\n",
    "\t0,\n",
    "\txosc.TransitionDynamics(\n",
    "\t\txosc.DynamicsShapes.linear,\n",
    "\t\txosc.DynamicsDimension.rate,\n",
    "\t\t-carrier_retardation\n",
    "\t),\n",
    ")\n",
    "carrier_reach_stop_position = xosc.EntityTrigger(\n",
    "\tname=CARRIER_ID + \",reach_stop_position\",\n",
    "\tdelay=0,\n",
    "\tconditionedge=xosc.ConditionEdge.none,\n",
    "\tentitycondition=xosc.ReachPositionCondition(carrier_brake_position, 1),\n",
    "\ttriggerentity=CARRIER_ID\n",
    ")\n",
    "carrier_brake_event = xosc.Event(\n",
    "\tCARRIER_ID + \",brake_event\",\n",
    "\txosc.Priority.parallel\n",
    ")\n",
    "carrier_brake_event.add_trigger(carrier_reach_stop_position)\n",
    "carrier_brake_event.add_action(CARRIER_ID + \",brake_to_stop\", carrier_brake)\n",
    "carrier_maneuver.add_event(carrier_brake_event)"
   ]
  },
  {
   "cell_type": "code",
   "execution_count": 202,
   "metadata": {},
   "outputs": [
    {
     "data": {
      "text/plain": [
       "<scenariogeneration.xosc.storyboard.Maneuver at 0x7f1f69a70310>"
      ]
     },
     "execution_count": 202,
     "metadata": {},
     "output_type": "execute_result"
    }
   ],
   "source": [
    "# Virtual movement profile:\n",
    "# accelerate to top speed,\n",
    "# follow a trajectory,\n",
    "# then decelerate to a stop\n",
    "times = []\n",
    "positions = [\n",
    "\txosc.LanePosition(18.582534790039062, 0, 1, 0),\n",
    "\txosc.LanePosition(31.879226684570312, 0, 1, 0),\n",
    "\txosc.LanePosition(57.04560852050781, 0, 1, 0),\n",
    "\txosc.LanePosition(61.62282180786133, 0, 1, 0),\n",
    "]\n",
    "polyline = xosc.Polyline(times, positions)\n",
    "trajectory = xosc.Trajectory(VIRTUAL_ID + \",start_follow_trajectory\", closed=False)\n",
    "trajectory.add_shape(polyline)\n",
    "virtual_follow_trajectory = xosc.FollowTrajectoryAction(\n",
    "\ttrajectory,\n",
    "\txosc.FollowMode.position,\n",
    "\txosc.ReferenceContext.relative,\n",
    "\t1,\n",
    "\t0\n",
    ")\n",
    "virtual_set_speed = xosc.AbsoluteSpeedAction(\n",
    "\tvirtual_speed,\n",
    "\txosc.TransitionDynamics(\n",
    "\t\txosc.DynamicsShapes.linear,\n",
    "\t\txosc.DynamicsDimension.rate,\n",
    "\t\tvirtual_acceleration\n",
    "\t),\n",
    ")\n",
    "virtual_brake = xosc.AbsoluteSpeedAction(\n",
    "\t0,\n",
    "\txosc.TransitionDynamics(\n",
    "\t\txosc.DynamicsShapes.linear,\n",
    "\t\txosc.DynamicsDimension.rate,\n",
    "\t\t-virtual_retardation\n",
    "\t),\n",
    ")\n",
    "virtual_reach_stop_position = xosc.EntityTrigger(\n",
    "\tname=VIRTUAL_ID + \",reach_stop_position\",\n",
    "\tdelay=0,\n",
    "\tconditionedge=xosc.ConditionEdge.none,\n",
    "\tentitycondition=xosc.ReachPositionCondition(virtual_brake_position, 1),\n",
    "\ttriggerentity=VIRTUAL_ID\n",
    ")\n",
    "virtual_brake_event = xosc.Event(\n",
    "\tVIRTUAL_ID + \",brake_event\",\n",
    "\txosc.Priority.parallel\n",
    ")\n",
    "virtual_brake_event.add_trigger(virtual_reach_stop_position)\n",
    "virtual_brake_event.add_action(VIRTUAL_ID + \",brake_to_stop\", virtual_brake)\n",
    "virtual_maneuver.add_event(virtual_brake_event)"
   ]
  },
  {
   "cell_type": "code",
   "execution_count": 203,
   "metadata": {},
   "outputs": [
    {
     "data": {
      "text/plain": [
       "<scenariogeneration.xosc.storyboard.Maneuver at 0x7f1f69cf90d0>"
      ]
     },
     "execution_count": 203,
     "metadata": {},
     "output_type": "execute_result"
    }
   ],
   "source": [
    "# Camera drone movement profile:\n",
    "# accelerate to top speed,\n",
    "# follow a trajectory,\n",
    "# then decelerate to a stop\n",
    "times = []\n",
    "positions = [\n",
    "\txosc.LanePosition(13.252511024475098, 2.5, 1, 1),\n",
    "\txosc.LanePosition(8.073124885559082, 2.5, 1, 1),\n",
    "\txosc.LanePosition(66.29085540771484, 2.5, 1, 0),\n",
    "\txosc.LanePosition(61.50538635253906, 2.5, 1, 0),\n",
    "]\n",
    "polyline = xosc.Polyline(times, positions)\n",
    "trajectory = xosc.Trajectory(CAMERA_DRONE_ID + \",start_follow_trajectory\", closed=False)\n",
    "trajectory.add_shape(polyline)\n",
    "camera_drone_follow_trajectory = xosc.FollowTrajectoryAction(\n",
    "\ttrajectory,\n",
    "\txosc.FollowMode.position,\n",
    "\txosc.ReferenceContext.relative,\n",
    "\t1,\n",
    "\t0\n",
    ")\n",
    "camera_drone_set_speed = xosc.AbsoluteSpeedAction(\n",
    "\tcamera_drone_speed,\n",
    "\txosc.TransitionDynamics(\n",
    "\t\txosc.DynamicsShapes.linear,\n",
    "\t\txosc.DynamicsDimension.rate,\n",
    "\t\tcamera_drone_acceleration\n",
    "\t),\n",
    ")\n",
    "camera_drone_brake = xosc.AbsoluteSpeedAction(\n",
    "\t0,\n",
    "\txosc.TransitionDynamics(\n",
    "\t\txosc.DynamicsShapes.linear,\n",
    "\t\txosc.DynamicsDimension.rate,\n",
    "\t\t-camera_drone_retardation\n",
    "\t),\n",
    ")\n",
    "camera_drone_reach_stop_position = xosc.EntityTrigger(\n",
    "\tname=CAMERA_DRONE_ID + \",reach_stop_position\",\n",
    "\tdelay=0,\n",
    "\tconditionedge=xosc.ConditionEdge.none,\n",
    "\tentitycondition=xosc.ReachPositionCondition(camera_drone_brake_position, 1),\n",
    "\ttriggerentity=CAMERA_DRONE_ID\n",
    ")\n",
    "camera_drone_brake_event = xosc.Event(\n",
    "\tCAMERA_DRONE_ID + \",brake_event\",\n",
    "\txosc.Priority.parallel\n",
    ")\n",
    "camera_drone_brake_event.add_trigger(camera_drone_reach_stop_position)\n",
    "camera_drone_brake_event.add_action(CAMERA_DRONE_ID + \",brake_to_stop\", camera_drone_brake)\n",
    "camera_drone_maneuver.add_event(camera_drone_brake_event)"
   ]
  },
  {
   "cell_type": "code",
   "execution_count": 204,
   "metadata": {},
   "outputs": [
    {
     "data": {
      "text/plain": [
       "<scenariogeneration.xosc.storyboard.Maneuver at 0x7f1f69cf9be0>"
      ]
     },
     "execution_count": 204,
     "metadata": {},
     "output_type": "execute_result"
    }
   ],
   "source": [
    "# Marker drone movement profile:\n",
    "# accelerate to top speed,\n",
    "# follow a trajectory,\n",
    "# then decelerate to a stop\n",
    "marker_drone_follow_trajectory = virtual_follow_trajectory\n",
    "marker_drone_follow_trajectory.trajectory.name = MARKER_DRONE_ID + \",start_follow_trajectory\"\n",
    "marker_drone_set_speed = xosc.AbsoluteSpeedAction(\n",
    "\tmarker_drone_speed,\n",
    "\txosc.TransitionDynamics(\n",
    "\t\txosc.DynamicsShapes.linear,\n",
    "\t\txosc.DynamicsDimension.rate,\n",
    "\t\tmarker_drone_acceleration\n",
    "\t),\n",
    ")\n",
    "marker_drone_brake = xosc.AbsoluteSpeedAction(\n",
    "\t0,\n",
    "\txosc.TransitionDynamics(\n",
    "\t\txosc.DynamicsShapes.linear,\n",
    "\t\txosc.DynamicsDimension.rate,\n",
    "\t\t-marker_drone_retardation\n",
    "\t),\n",
    ")\n",
    "marker_drone_reach_stop_position = xosc.EntityTrigger(\n",
    "\tname=MARKER_DRONE_ID + \",reach_stop_position\",\n",
    "\tdelay=0,\n",
    "\tconditionedge=xosc.ConditionEdge.none,\n",
    "\tentitycondition=xosc.ReachPositionCondition(marker_drone_brake_position, 1),\n",
    "\ttriggerentity=MARKER_DRONE_ID\n",
    ")\n",
    "marker_drone_brake_event = xosc.Event(\n",
    "\tMARKER_DRONE_ID + \",brake_event\",\n",
    "\txosc.Priority.parallel\n",
    ")\n",
    "marker_drone_brake_event.add_trigger(marker_drone_reach_stop_position)\n",
    "marker_drone_brake_event.add_action(MARKER_DRONE_ID + \",brake_to_stop\", marker_drone_brake)\n",
    "marker_drone_maneuver.add_event(marker_drone_brake_event)"
   ]
  },
  {
   "cell_type": "code",
   "execution_count": 205,
   "metadata": {},
   "outputs": [
    {
     "data": {
      "text/plain": [
       "<scenariogeneration.xosc.storyboard.Maneuver at 0x7f1f69ba0c70>"
      ]
     },
     "execution_count": 205,
     "metadata": {},
     "output_type": "execute_result"
    }
   ],
   "source": [
    "# Mondeo triggers UFO\n",
    "mondeo_reached_ufo_trigger_position = xosc.EntityTrigger(\n",
    "\tname=MONDEO_ID + \",reached_ufo_trigger_position\",\n",
    "\tdelay=0,\n",
    "\tconditionedge=xosc.ConditionEdge.none,\n",
    "\tentitycondition=xosc.ReachPositionCondition(mondeo_trigger_positions[UFO_ID], 1),\n",
    "\ttriggerentity=MONDEO_ID\n",
    ")\n",
    "\n",
    "ufo_move_event = xosc.Event(\n",
    "\tUFO_ID + \",start_move_event\",\n",
    "\txosc.Priority.parallel\n",
    ")\n",
    "ufo_move_event.add_trigger(mondeo_reached_ufo_trigger_position)\n",
    "ufo_move_event.add_action(UFO_ID + \",start_follow_trajectory\", ufo_follow_trajectory)\n",
    "ufo_move_event.add_action(UFO_ID + \",set_speed\", ufo_set_speed)\n",
    "ufo_maneuver.add_event(ufo_move_event)"
   ]
  },
  {
   "cell_type": "code",
   "execution_count": 206,
   "metadata": {},
   "outputs": [
    {
     "data": {
      "text/plain": [
       "<scenariogeneration.xosc.storyboard.Maneuver at 0x7f1f69a70070>"
      ]
     },
     "execution_count": 206,
     "metadata": {},
     "output_type": "execute_result"
    }
   ],
   "source": [
    "# Mondeo triggers carrier\n",
    "mondeo_reached_carrier_trigger_position = xosc.EntityTrigger(\n",
    "\tname=MONDEO_ID + \",reached_carrier_trigger_position\",\n",
    "\tdelay=0,\n",
    "\tconditionedge=xosc.ConditionEdge.none,\n",
    "\tentitycondition=xosc.ReachPositionCondition(mondeo_trigger_positions[CARRIER_ID], 1),\n",
    "\ttriggerentity=MONDEO_ID\n",
    ")\n",
    "\n",
    "carrier_move_event = xosc.Event(\n",
    "\tCARRIER_ID + \",start_move_event\",\n",
    "\txosc.Priority.parallel\n",
    ")\n",
    "carrier_move_event.add_trigger(mondeo_reached_carrier_trigger_position)\n",
    "carrier_move_event.add_action(CARRIER_ID + \",start_follow_trajectory\", carrier_follow_trajectory)\n",
    "carrier_move_event.add_action(CARRIER_ID + \",set_speed\", carrier_set_speed)\n",
    "carrier_maneuver.add_event(carrier_move_event)"
   ]
  },
  {
   "cell_type": "code",
   "execution_count": 207,
   "metadata": {},
   "outputs": [
    {
     "data": {
      "text/plain": [
       "<scenariogeneration.xosc.storyboard.Maneuver at 0x7f1f69a70310>"
      ]
     },
     "execution_count": 207,
     "metadata": {},
     "output_type": "execute_result"
    }
   ],
   "source": [
    "# Mondeo triggers virtual\n",
    "mondeo_reached_virtual_trigger_position = xosc.EntityTrigger(\n",
    "\tname=MONDEO_ID + \",reached_virtual_trigger_position\",\n",
    "\tdelay=0,\n",
    "\tconditionedge=xosc.ConditionEdge.none,\n",
    "\tentitycondition=xosc.ReachPositionCondition(mondeo_trigger_positions[VIRTUAL_ID], 1),\n",
    "\ttriggerentity=MONDEO_ID\n",
    ")\n",
    "\n",
    "virtual_move_event = xosc.Event(\n",
    "\tVIRTUAL_ID + \",start_move_event\",\n",
    "\txosc.Priority.parallel\n",
    ")\n",
    "virtual_move_event.add_trigger(mondeo_reached_virtual_trigger_position)\n",
    "virtual_move_event.add_action(VIRTUAL_ID + \",start_follow_trajectory\", virtual_follow_trajectory)\n",
    "virtual_move_event.add_action(VIRTUAL_ID + \",set_speed\", virtual_set_speed)\n",
    "virtual_maneuver.add_event(virtual_move_event)"
   ]
  },
  {
   "cell_type": "code",
   "execution_count": 208,
   "metadata": {},
   "outputs": [
    {
     "data": {
      "text/plain": [
       "<scenariogeneration.xosc.storyboard.Maneuver at 0x7f1f69cf90d0>"
      ]
     },
     "execution_count": 208,
     "metadata": {},
     "output_type": "execute_result"
    }
   ],
   "source": [
    "# Mondeo triggers camera drone\n",
    "mondeo_reached_camera_drone_trigger_position = xosc.EntityTrigger(\n",
    "\tname=MONDEO_ID + \",reached_camera_drone_trigger_position\",\n",
    "\tdelay=0,\n",
    "\tconditionedge=xosc.ConditionEdge.none,\n",
    "\tentitycondition=xosc.ReachPositionCondition(mondeo_trigger_positions[CAMERA_DRONE_ID], 1),\n",
    "\ttriggerentity=MONDEO_ID\n",
    ")\n",
    "\n",
    "camera_drone_move_event = xosc.Event(\n",
    "\tCAMERA_DRONE_ID + \",start_move_event\",\n",
    "\txosc.Priority.parallel\n",
    ")\n",
    "camera_drone_move_event.add_trigger(mondeo_reached_camera_drone_trigger_position)\n",
    "camera_drone_move_event.add_action(CAMERA_DRONE_ID + \",start_follow_trajectory\", camera_drone_follow_trajectory)\n",
    "camera_drone_move_event.add_action(CAMERA_DRONE_ID + \",set_speed\", camera_drone_set_speed)\n",
    "camera_drone_maneuver.add_event(camera_drone_move_event)"
   ]
  },
  {
   "cell_type": "code",
   "execution_count": 209,
   "metadata": {},
   "outputs": [
    {
     "data": {
      "text/plain": [
       "<scenariogeneration.xosc.storyboard.Maneuver at 0x7f1f69cf9be0>"
      ]
     },
     "execution_count": 209,
     "metadata": {},
     "output_type": "execute_result"
    }
   ],
   "source": [
    "# Mondeo triggers marker drone\n",
    "mondeo_reached_marker_drone_trigger_position = xosc.EntityTrigger(\n",
    "\tname=MONDEO_ID + \",reached_marker_drone_trigger_position\",\n",
    "\tdelay=0,\n",
    "\tconditionedge=xosc.ConditionEdge.none,\n",
    "\tentitycondition=xosc.ReachPositionCondition(mondeo_trigger_positions[MARKER_DRONE_ID], 1),\n",
    "\ttriggerentity=MONDEO_ID\n",
    ")\n",
    "\n",
    "marker_drone_move_event = xosc.Event(\n",
    "\tMARKER_DRONE_ID + \",start_move_event\",\n",
    "\txosc.Priority.parallel\n",
    ")\n",
    "marker_drone_move_event.add_trigger(mondeo_reached_marker_drone_trigger_position)\n",
    "marker_drone_move_event.add_action(MARKER_DRONE_ID + \",start_follow_trajectory\", marker_drone_follow_trajectory)\n",
    "marker_drone_move_event.add_action(MARKER_DRONE_ID + \",set_speed\", marker_drone_set_speed)\n",
    "marker_drone_maneuver.add_event(marker_drone_move_event)"
   ]
  },
  {
   "cell_type": "code",
   "execution_count": 210,
   "metadata": {},
   "outputs": [
    {
     "data": {
      "text/plain": [
       "<scenariogeneration.xosc.storyboard.Maneuver at 0x7f1f69a70310>"
      ]
     },
     "execution_count": 210,
     "metadata": {},
     "output_type": "execute_result"
    }
   ],
   "source": [
    "# Virtual object triggers DENM warning\n",
    "virtual_high_speed_detected = xosc.EntityTrigger(\n",
    "\tname=VIRTUAL_ID + \",high_speed_detected\",\n",
    "\tdelay=0,\n",
    "\tconditionedge=xosc.ConditionEdge.rising,\n",
    "\tentitycondition=xosc.SpeedCondition(denm_trigger_speed, xosc.Rule.greaterThan),\n",
    "\ttriggerentity=VIRTUAL_ID\n",
    ")\n",
    "virtual_denm_warning = xosc.UserDefinedAction()\n",
    "\n",
    "virtual_high_speed_event = xosc.Event(\n",
    "\tVIRTUAL_ID + \",high_speed_event\",\n",
    "\txosc.Priority.parallel\n",
    ")\n",
    "virtual_high_speed_event.add_trigger(virtual_high_speed_detected)\n",
    "# TODO how to add DENM warning action?\n",
    "virtual_high_speed_event.add_action(VIRTUAL_ID + \",denm_warning\", virtual_denm_warning) \n",
    "virtual_maneuver.add_event(virtual_high_speed_event)"
   ]
  },
  {
   "cell_type": "code",
   "execution_count": 211,
   "metadata": {},
   "outputs": [],
   "source": [
    "# Collect into a scenario and write to file\n",
    "mondeo_maneuver_group.add_maneuver(mondeo_maneuver)\n",
    "ufo_maneuver_group.add_maneuver(ufo_maneuver)\n",
    "carrier_maneuver_group.add_maneuver(carrier_maneuver)\n",
    "virtual_maneuver_group.add_maneuver(virtual_maneuver)\n",
    "camera_drone_maneuver_group.add_maneuver(camera_drone_maneuver)\n",
    "marker_drone_maneuver_group.add_maneuver(marker_drone_maneuver)\n",
    "\n",
    "osc_act.add_maneuver_group(mondeo_maneuver_group)\n",
    "osc_act.add_maneuver_group(ufo_maneuver_group)\n",
    "osc_act.add_maneuver_group(carrier_maneuver_group)\n",
    "osc_act.add_maneuver_group(virtual_maneuver_group)\n",
    "osc_act.add_maneuver_group(camera_drone_maneuver_group)\n",
    "osc_act.add_maneuver_group(marker_drone_maneuver_group)\n",
    "\n",
    "osc_storyboard.add_act(osc_act)\n",
    "osc_file = xosc.Scenario(\n",
    "\t\tname=SCENARIO_NAME,\n",
    "\t\tauthor=\"AstaZero 1.0\",\n",
    "\t\tparameters=osc_params,\n",
    "\t\tentities=osc_entities,\n",
    "\t\tstoryboard=osc_storyboard,\n",
    "\t\troadnetwork=osc_road_network,\n",
    "\t\tcatalog=osc_catalogs\n",
    "\t)\n",
    "\n",
    "osc_file.write_xml(SCENARIO_FILE_NAME)"
   ]
  }
 ],
 "metadata": {
  "kernelspec": {
   "display_name": "Python 3",
   "language": "python",
   "name": "python3"
  },
  "language_info": {
   "codemirror_mode": {
    "name": "ipython",
    "version": 3
   },
   "file_extension": ".py",
   "mimetype": "text/x-python",
   "name": "python",
   "nbconvert_exporter": "python",
   "pygments_lexer": "ipython3",
   "version": "3.8.10"
  },
  "orig_nbformat": 4,
  "vscode": {
   "interpreter": {
    "hash": "916dbcbb3f70747c44a77c7bcd40155683ae19c65e1c03b4aa3499c5328201f1"
   }
  }
 },
 "nbformat": 4,
 "nbformat_minor": 2
}
