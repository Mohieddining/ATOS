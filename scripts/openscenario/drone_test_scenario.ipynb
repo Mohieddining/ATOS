{
 "cells": [
  {
   "cell_type": "code",
   "execution_count": 7,
   "metadata": {},
   "outputs": [],
   "source": [
    "from scenariogeneration import xosc"
   ]
  },
  {
   "cell_type": "code",
   "execution_count": 8,
   "metadata": {},
   "outputs": [],
   "source": [
    "# Fixed parameters\n",
    "DRONE_ID = \"5\"\n",
    "DRONE_CATALOG_NAME = \"camera_drone\"\n",
    "\n",
    "CATALOG_PATH = \"../Catalogs/Vehicles\"\n",
    "CATALOG_NAME = \"VehicleCatalog\"\n",
    "\n",
    "OPENDRIVE_PATH = \"../odr/GaragePlanSouth.xodr\"\n",
    "SCENARIO_NAME = \"DroneScenario\"\n",
    "SCENARIO_FILE_NAME = SCENARIO_NAME + \".xosc\""
   ]
  },
  {
   "cell_type": "code",
   "execution_count": 9,
   "metadata": {},
   "outputs": [],
   "source": [
    "# Dynamic parameters\n",
    "drone_starting_point = xosc.WorldPosition(0,0,5,0,0,0)\n",
    "drone_speed = 10 / 3.6 # m/s\n",
    "drone_acceleration = 2 # m/s2"
   ]
  },
  {
   "cell_type": "code",
   "execution_count": 10,
   "metadata": {},
   "outputs": [
    {
     "data": {
      "text/plain": [
       "<scenariogeneration.xosc.storyboard.ManeuverGroup at 0x7f8d16eaa2b0>"
      ]
     },
     "execution_count": 10,
     "metadata": {},
     "output_type": "execute_result"
    }
   ],
   "source": [
    "# Preamble\n",
    "init = xosc.Init()\n",
    "osc_params = xosc.ParameterDeclarations()\n",
    "osc_catalogs = xosc.Catalog()\n",
    "osc_catalogs.add_catalog(CATALOG_NAME, CATALOG_PATH)\n",
    "osc_road_network = xosc.RoadNetwork(roadfile=OPENDRIVE_PATH)\n",
    "osc_entities = xosc.Entities()\n",
    "osc_storyboard = xosc.StoryBoard(init)\n",
    "osc_act = xosc.Act(\"start\")\n",
    "\n",
    "drone_maneuver_group = xosc.ManeuverGroup(DRONE_ID + \",maneuver_group\")\n",
    "drone_maneuver = xosc.Maneuver(DRONE_ID + \",maneuver\")\n",
    "drone_maneuver_group.add_actor(DRONE_ID)"
   ]
  },
  {
   "cell_type": "code",
   "execution_count": 11,
   "metadata": {},
   "outputs": [],
   "source": [
    "# Starting position\n",
    "osc_entities = osc_entities.add_scenario_object(DRONE_ID, xosc.CatalogReference(CATALOG_NAME, DRONE_CATALOG_NAME))\n",
    "drone_start_teleport = xosc.TeleportAction(drone_starting_point)\n",
    "drone_set_speed = xosc.AbsoluteSpeedAction(\n",
    "\tdrone_speed,\n",
    "\txosc.TransitionDynamics(\n",
    "\t\txosc.DynamicsShapes.linear,\n",
    "\t\txosc.DynamicsDimension.rate,\n",
    "\t\tdrone_acceleration\n",
    "\t)\n",
    ")\n",
    "init.add_init_action(DRONE_ID, drone_start_teleport)\n",
    "init.add_init_action(DRONE_ID, drone_set_speed)"
   ]
  },
  {
   "cell_type": "code",
   "execution_count": 12,
   "metadata": {},
   "outputs": [
    {
     "data": {
      "text/plain": [
       "<scenariogeneration.xosc.storyboard.Maneuver at 0x7f8d16eaa3a0>"
      ]
     },
     "execution_count": 12,
     "metadata": {},
     "output_type": "execute_result"
    }
   ],
   "source": [
    "# Drone movement profile\n",
    "\n",
    "# Start moving\n",
    "times = [2.5, 5, 7.5, 10, 12.5, 15]\n",
    "positions = [\n",
    "\txosc.WorldPosition(0,0,5,0,0,0),\n",
    "\txosc.WorldPosition(1,-2,5,0,0,0),\n",
    "\txosc.WorldPosition(2,-4,5,0,0,0),\n",
    "\txosc.WorldPosition(3,-6,5,0,0,0),\n",
    "\txosc.WorldPosition(4,-8,5,0,0,0),\n",
    "\txosc.WorldPosition(5,-10,5,0,0,0)\n",
    "]\n",
    "\n",
    "polyline = xosc.Polyline(times, positions)\n",
    "trajectory = xosc.Trajectory(DRONE_ID + \",init_follow_trajectory\", closed=False)\n",
    "trajectory.add_shape(polyline)\n",
    "drone_follow_trajectory = xosc.FollowTrajectoryAction(\n",
    "\ttrajectory,\n",
    "\txosc.FollowMode.position,\n",
    "\txosc.ReferenceContext.relative,\n",
    "\t1,\n",
    "\t0\n",
    ")\n",
    "drone_scenario_started = xosc.ValueTrigger(\n",
    "    DRONE_ID + \",scenario_started\",\n",
    "    0,\n",
    "    xosc.ConditionEdge.none,\n",
    "    xosc.SimulationTimeCondition(0, xosc.Rule.greaterThan)\n",
    ")\n",
    "drone_follow_trajectory_event = xosc.Event(\n",
    "\tDRONE_ID + \",drone_follow_trajectory_event\",\n",
    "\txosc.Priority.parallel\n",
    ")\n",
    "drone_follow_trajectory_event.add_trigger(drone_scenario_started)\n",
    "drone_follow_trajectory_event.add_action(DRONE_ID + \",init_follow_trajectory\", drone_follow_trajectory)\n",
    "drone_maneuver.add_event(drone_follow_trajectory_event)\n",
    "\n",
    "# Stop\n",
    "drone_brake = xosc.AbsoluteSpeedAction(\n",
    "\t0,\n",
    "\txosc.TransitionDynamics(\n",
    "\t\txosc.DynamicsShapes.linear,\n",
    "\t\txosc.DynamicsDimension.time,\n",
    "\t\t-drone_acceleration\n",
    "\t)\n",
    ")\n",
    "drone_reach_brake_position = xosc.EntityTrigger(\n",
    "    name=DRONE_ID + \",reach_brake_position\",\n",
    "    delay=0,\n",
    "    conditionedge=xosc.ConditionEdge.rising,\n",
    "    entitycondition=xosc.ReachPositionCondition(positions[-1], 1.0), # tolerance\n",
    "    triggerentity=DRONE_ID\n",
    ")\n",
    "drone_brake_event = xosc.Event(\n",
    "\tDRONE_ID + \",stop_event\",\n",
    "    xosc.Priority.overwrite,\n",
    ")\n",
    "\n",
    "drone_brake_event.add_trigger(drone_reach_brake_position)\n",
    "drone_brake_event.add_action(DRONE_ID + \",brake_to_stop\", drone_brake)\n",
    "drone_maneuver.add_event(drone_brake_event)"
   ]
  },
  {
   "cell_type": "code",
   "execution_count": 13,
   "metadata": {},
   "outputs": [],
   "source": [
    "# Collect into a scenario and write to file\n",
    "drone_maneuver_group.add_maneuver(drone_maneuver)\n",
    "osc_act.add_maneuver_group(drone_maneuver_group)\n",
    "osc_storyboard.add_act(osc_act)\n",
    "osc_file = xosc.Scenario(\n",
    "\t\tname=SCENARIO_NAME,\n",
    "\t\tauthor=\"AstaZero 1.0\",\n",
    "\t\tparameters=osc_params,\n",
    "\t\tentities=osc_entities,\n",
    "\t\tstoryboard=osc_storyboard,\n",
    "\t\troadnetwork=osc_road_network,\n",
    "\t\tcatalog=osc_catalogs\n",
    "\t)\n",
    "\n",
    "osc_file.write_xml(SCENARIO_FILE_NAME)"
   ]
  }
 ],
 "metadata": {
  "kernelspec": {
   "display_name": "Python 3",
   "language": "python",
   "name": "python3"
  },
  "language_info": {
   "codemirror_mode": {
    "name": "ipython",
    "version": 3
   },
   "file_extension": ".py",
   "mimetype": "text/x-python",
   "name": "python",
   "nbconvert_exporter": "python",
   "pygments_lexer": "ipython3",
   "version": "3.8.10"
  },
  "orig_nbformat": 4,
  "vscode": {
   "interpreter": {
    "hash": "916dbcbb3f70747c44a77c7bcd40155683ae19c65e1c03b4aa3499c5328201f1"
   }
  }
 },
 "nbformat": 4,
 "nbformat_minor": 2
}
