{
 "cells": [
  {
   "cell_type": "code",
   "execution_count": 1,
   "metadata": {},
   "outputs": [],
   "source": [
    "from scenariogeneration import xosc"
   ]
  },
  {
   "cell_type": "code",
   "execution_count": 2,
   "metadata": {},
   "outputs": [],
   "source": [
    "MONDEO_ID = \"1\"\n",
    "UFO_ID = \"2\"\n",
    "CARRIER_ID = \"3\"\n",
    "VIRTUAL_ID = \"4\"\n",
    "CAMERA_DRONE_ID = \"5\"\n",
    "MARKER_DRONE_ID = \"6\"\n",
    "\n",
    "CATALOG_PATH = \"../Catalogs/Vehicles\"\n",
    "CATALOG_NAME = \"VehicleCatalog\"\n",
    "CONTROLLER_CATALOG_PATH = \"../Catalogs/Controllers\"\n",
    "CONTROLLER_CATALOG_NAME = \"ControllerCatalog\"\n",
    "MONDEO_CATALOG_NAME = \"mondeo\"\n",
    "UFO_CATALOG_NAME = \"humanetics\"\n",
    "CARRIER_CATALOG_NAME = \"flexible_target_carrier\"\n",
    "VIRTUAL_CATALOG_NAME = \"virtual_object\"\n",
    "CAMERA_DRONE_CATALOG_NAME = \"camera_drone\"\n",
    "MARKER_DRONE_CATALOG_NAME = \"marker_drone\"\n",
    "\n",
    "OPENDRIVE_PATH = \"../odr/Multilane.xodr\"\n",
    "SCENARIO_NAME = \"MultilaneScenario\"\n",
    "SCENARIO_FILE_NAME = SCENARIO_NAME + \".xosc\""
   ]
  },
  {
   "cell_type": "code",
   "execution_count": 3,
   "metadata": {},
   "outputs": [],
   "source": [
    "# Dynamic parameters\n",
    "ufo_speed = 10 / 3.6 # m/s\n",
    "ufo_acceleration = 1.38 # m/s^2\n",
    "ufo_retardation = 1.83 # m/s^2\n",
    "ufo_O2_point = xosc.LanePosition(170, 0, 1, 0)\n",
    "ufo_brake_position = xosc.LanePosition(50, 0, 1, 0)\n",
    "\n",
    "carrier_speed = 15 / 3.6 # m/s\n",
    "carrier_acceleration = 1.12 # m/s^2\n",
    "carrier_retardation = 1.03 # m/s^2\n",
    "carrier_O3_point = xosc.LanePosition(30, 0, -1, 0)\n",
    "carrier_brake_position = xosc.LanePosition(130, 0, -1, 0)\n",
    "\n",
    "camera_drone_speed = 15 / 3.6 # m/s\n",
    "camera_drone_acceleration = 1.76 # m/s^2\n",
    "camera_drone_retardation = 1.96 # m/s^2\n",
    "camera_drone_O5_point = xosc.LanePosition(170, 2.5, 1, 0)\n",
    "camera_drone_brake_position = xosc.LanePosition(50, 2.5, 1, 0)\n",
    "\n",
    "denm_trigger_speed = 30 / 3.6 # m/s\n",
    "\n",
    "carrier_trigger_positions = {\n",
    "\tUFO_ID: xosc.LanePosition(90, 0, -1, 0),\n",
    "\tCAMERA_DRONE_ID: xosc.LanePosition(90, 0, -1, 0),\n",
    "}"
   ]
  },
  {
   "cell_type": "code",
   "execution_count": 4,
   "metadata": {},
   "outputs": [
    {
     "data": {
      "text/plain": [
       "<scenariogeneration.xosc.storyboard.ManeuverGroup at 0x7fa6c0b63ca0>"
      ]
     },
     "execution_count": 4,
     "metadata": {},
     "output_type": "execute_result"
    }
   ],
   "source": [
    "# Preamble\n",
    "init = xosc.Init()\n",
    "osc_params = xosc.ParameterDeclarations()\n",
    "osc_catalogs = xosc.Catalog()\n",
    "osc_catalogs.add_catalog(CATALOG_NAME, CATALOG_PATH)\n",
    "osc_catalogs.add_catalog(CONTROLLER_CATALOG_NAME, CONTROLLER_CATALOG_PATH)\n",
    "osc_road_network = xosc.RoadNetwork(roadfile=OPENDRIVE_PATH)\n",
    "osc_entities = xosc.Entities()\n",
    "osc_storyboard = xosc.StoryBoard(init)\n",
    "osc_act = xosc.Act(\"start\")\n",
    "\n",
    "ufo_maneuver_group = xosc.ManeuverGroup(UFO_ID + \",maneuver_group\")\n",
    "ufo_maneuver = xosc.Maneuver(UFO_ID + \",maneuver\")\n",
    "ufo_maneuver_group.add_actor(UFO_ID)\n",
    "carrier_maneuver_group = xosc.ManeuverGroup(CARRIER_ID + \",maneuver_group\")\n",
    "carrier_maneuver = xosc.Maneuver(CARRIER_ID + \",maneuver\")\n",
    "carrier_maneuver_group.add_actor(CARRIER_ID)\n",
    "camera_drone_maneuver_group = xosc.ManeuverGroup(CAMERA_DRONE_ID + \",maneuver_group\")\n",
    "camera_drone_maneuver = xosc.Maneuver(CAMERA_DRONE_ID + \",maneuver\")\n",
    "camera_drone_maneuver_group.add_actor(CAMERA_DRONE_ID)"
   ]
  },
  {
   "cell_type": "code",
   "execution_count": 5,
   "metadata": {},
   "outputs": [],
   "source": [
    "osc_entities.add_scenario_object(UFO_ID,\n",
    "\txosc.CatalogReference(CATALOG_NAME, UFO_CATALOG_NAME),\n",
    "\txosc.CatalogReference(CONTROLLER_CATALOG_NAME, \"externalController\"))\n",
    "osc_entities.add_scenario_object(CARRIER_ID,\n",
    "\txosc.CatalogReference(CATALOG_NAME, CARRIER_CATALOG_NAME),\n",
    "\txosc.CatalogReference(CONTROLLER_CATALOG_NAME, \"externalController\"))\n",
    "osc_entities.add_scenario_object(CAMERA_DRONE_ID,\n",
    "\txosc.CatalogReference(CATALOG_NAME, CAMERA_DRONE_CATALOG_NAME),\n",
    "\txosc.CatalogReference(CONTROLLER_CATALOG_NAME, \"externalController\"))\n",
    "\n",
    "ufo_start_teleport = xosc.TeleportAction(ufo_O2_point)\n",
    "carrier_start_teleport = xosc.TeleportAction(carrier_O3_point)\n",
    "camera_drone_start_teleport = xosc.TeleportAction(camera_drone_O5_point)\n",
    "\n",
    "init.add_init_action(UFO_ID, ufo_start_teleport)\n",
    "init.add_init_action(CARRIER_ID, carrier_start_teleport)\n",
    "init.add_init_action(CAMERA_DRONE_ID, camera_drone_start_teleport)"
   ]
  },
  {
   "cell_type": "code",
   "execution_count": 6,
   "metadata": {},
   "outputs": [
    {
     "data": {
      "text/plain": [
       "<scenariogeneration.xosc.storyboard.Maneuver at 0x7fa6c0b63a30>"
      ]
     },
     "execution_count": 6,
     "metadata": {},
     "output_type": "execute_result"
    }
   ],
   "source": [
    "# UFO movement profile:\n",
    "# accelerate to top speed,\n",
    "# follow a trajectory,\n",
    "# then decelerate to a stop\n",
    "times = []\n",
    "positions = [\n",
    "\txosc.LanePosition(170, 0, 1, 0),\n",
    "\txosc.LanePosition(160, 0, 1, 0),\n",
    "\txosc.LanePosition(150, 0, 1, 0),\n",
    "\txosc.LanePosition(140, 0, 1, 0),\n",
    "\txosc.LanePosition(130, 0, 1, 0),\n",
    "\txosc.LanePosition(120, 0, 1, 0),\n",
    "\txosc.LanePosition(100, 0, 1, 0),\n",
    "\txosc.LanePosition(90, 0, 1, 0),\n",
    "\txosc.LanePosition(80, 0, 1, 0),\n",
    "\txosc.LanePosition(70, 0, 1, 0),\n",
    "\txosc.LanePosition(60, 0, 1, 0),\n",
    "\txosc.LanePosition(50, 0, 1, 0),\n",
    "\txosc.LanePosition(40, 0, 1, 0),\n",
    "\txosc.LanePosition(30, 0, 1, 0),\n",
    "]\n",
    "polyline = xosc.Polyline(times, positions)\n",
    "trajectory = xosc.Trajectory(UFO_ID + \",start_follow_trajectory\", closed=False)\n",
    "trajectory.add_shape(polyline)\n",
    "ufo_follow_trajectory = xosc.FollowTrajectoryAction(\n",
    "\ttrajectory,\n",
    "\txosc.FollowingMode.position,\n",
    "\txosc.ReferenceContext.relative,\n",
    "\t1,\n",
    "\t0\n",
    ")\n",
    "ufo_set_speed = xosc.AbsoluteSpeedAction(\n",
    "\tufo_speed,\n",
    "\txosc.TransitionDynamics(\n",
    "\t\txosc.DynamicsShapes.linear,\n",
    "\t\txosc.DynamicsDimension.rate,\n",
    "\t\tufo_acceleration\n",
    "\t),\n",
    ")\n",
    "\n",
    "ufo_brake = xosc.AbsoluteSpeedAction(\n",
    "\t0,\n",
    "\txosc.TransitionDynamics(\n",
    "\t\txosc.DynamicsShapes.linear,\n",
    "\t\txosc.DynamicsDimension.rate,\n",
    "\t\t-ufo_retardation\n",
    "\t),\n",
    ")\n",
    "ufo_reach_stop_position = xosc.EntityTrigger(\n",
    "\tname=UFO_ID + \",reach_stop_position\",\n",
    "\tdelay=0,\n",
    "\tconditionedge=xosc.ConditionEdge.none,\n",
    "\tentitycondition=xosc.ReachPositionCondition(ufo_brake_position, 1),\n",
    "\ttriggerentity=UFO_ID\n",
    ")\n",
    "ufo_brake_event = xosc.Event(\n",
    "\tUFO_ID + \",brake_event\",\n",
    "\txosc.Priority.parallel\n",
    ")\n",
    "ufo_brake_event.add_trigger(ufo_reach_stop_position)\n",
    "ufo_brake_event.add_action(UFO_ID + \",brake_to_stop\", ufo_brake)\n",
    "ufo_maneuver.add_event(ufo_brake_event)"
   ]
  },
  {
   "cell_type": "code",
   "execution_count": 7,
   "metadata": {},
   "outputs": [
    {
     "data": {
      "text/plain": [
       "<scenariogeneration.xosc.storyboard.Maneuver at 0x7fa6c0b63be0>"
      ]
     },
     "execution_count": 7,
     "metadata": {},
     "output_type": "execute_result"
    }
   ],
   "source": [
    "# Carrier movement profile:\n",
    "# accelerate to top speed,\n",
    "# follow a trajectory,\n",
    "# then decelerate to a stop\n",
    "times = []\n",
    "positions = [\n",
    "\txosc.LanePosition(30, 0, -1, 0),\n",
    "\txosc.LanePosition(50, 0, -1, 0),\n",
    "\txosc.LanePosition(70, 0, -1, 0),\n",
    "\txosc.LanePosition(90, 0, -1, 0),\n",
    "\txosc.LanePosition(110, 0, -1, 0),\n",
    "\txosc.LanePosition(130, 0, -1, 0),\n",
    "\txosc.LanePosition(150, 0, -1, 0),\n",
    "\txosc.LanePosition(170, 0, -1, 0),\n",
    "]\n",
    "polyline = xosc.Polyline(times, positions)\n",
    "trajectory = xosc.Trajectory(CARRIER_ID + \",start_follow_trajectory\", closed=False)\n",
    "trajectory.add_shape(polyline)\n",
    "carrier_follow_trajectory = xosc.FollowTrajectoryAction(\n",
    "\ttrajectory,\n",
    "\txosc.FollowingMode.position,\n",
    "\txosc.ReferenceContext.relative,\n",
    "\t1,\n",
    "\t0\n",
    ")\n",
    "carrier_scenario_started =  xosc.ValueTrigger(\n",
    "\tCARRIER_ID + \",scenario_started\",\n",
    "\t0,\n",
    "\txosc.ConditionEdge.none,\n",
    "\txosc.SimulationTimeCondition(0, xosc.Rule.greaterThan)\n",
    ")\n",
    "carrier_follow_trajectory_event = xosc.Event(\n",
    "\tCARRIER_ID + \",carrier_follow_trajectory_event\",\n",
    "\txosc.Priority.parallel\n",
    ")\n",
    "carrier_set_speed = xosc.AbsoluteSpeedAction(\n",
    "\tcarrier_speed,\n",
    "\txosc.TransitionDynamics(\n",
    "\t\txosc.DynamicsShapes.linear,\n",
    "\t\txosc.DynamicsDimension.rate,\n",
    "\t\tcarrier_acceleration\n",
    "\t),\n",
    ")\n",
    "carrier_follow_trajectory_event.add_trigger(carrier_scenario_started)\n",
    "carrier_follow_trajectory_event.add_action(CARRIER_ID + \",init_follow_trajectory\", carrier_follow_trajectory)\n",
    "carrier_follow_trajectory_event.add_action(CARRIER_ID + \",set_speed\", carrier_set_speed)\n",
    "carrier_maneuver.add_event(carrier_follow_trajectory_event)\n",
    "\n",
    "carrier_brake = xosc.AbsoluteSpeedAction(\n",
    "\t0,\n",
    "\txosc.TransitionDynamics(\n",
    "\t\txosc.DynamicsShapes.linear,\n",
    "\t\txosc.DynamicsDimension.rate,\n",
    "\t\t-carrier_retardation\n",
    "\t),\n",
    ")\n",
    "carrier_reach_stop_position = xosc.EntityTrigger(\n",
    "\tname=CARRIER_ID + \",reach_stop_position\",\n",
    "\tdelay=0,\n",
    "\tconditionedge=xosc.ConditionEdge.none,\n",
    "\tentitycondition=xosc.ReachPositionCondition(carrier_brake_position, 1),\n",
    "\ttriggerentity=CARRIER_ID\n",
    ")\n",
    "carrier_brake_event = xosc.Event(\n",
    "\tCARRIER_ID + \",brake_event\",\n",
    "\txosc.Priority.parallel\n",
    ")\n",
    "carrier_brake_event.add_trigger(carrier_reach_stop_position)\n",
    "carrier_brake_event.add_action(CARRIER_ID + \",brake_to_stop\", carrier_brake)\n",
    "carrier_maneuver.add_event(carrier_brake_event)"
   ]
  },
  {
   "cell_type": "code",
   "execution_count": 8,
   "metadata": {},
   "outputs": [
    {
     "data": {
      "text/plain": [
       "<scenariogeneration.xosc.storyboard.Maneuver at 0x7fa6c0b63d00>"
      ]
     },
     "execution_count": 8,
     "metadata": {},
     "output_type": "execute_result"
    }
   ],
   "source": [
    "# Camera drone movement profile:\n",
    "# accelerate to top speed,\n",
    "# follow a trajectory,\n",
    "# then decelerate to a stop\n",
    "times = []\n",
    "positions = [\n",
    "        xosc.LanePosition(170, 2.5, 1, 0),\n",
    "        xosc.LanePosition(160, 2.5, 1, 0),\n",
    "        xosc.LanePosition(150, 2.5, 1, 0),\n",
    "        xosc.LanePosition(140, 2.5, 1, 0),\n",
    "        xosc.LanePosition(130, 2.5, 1, 0),\n",
    "        xosc.LanePosition(120, 2.5, 1, 0),\n",
    "        xosc.LanePosition(100, 2.5, 1, 0),\n",
    "        xosc.LanePosition(90, 2.5, 1, 0),\n",
    "        xosc.LanePosition(80, 2.5, 1, 0),\n",
    "        xosc.LanePosition(70, 2.5, 1, 0),\n",
    "        xosc.LanePosition(60, 2.5, 1, 0),\n",
    "        xosc.LanePosition(50, 2.5, 1, 0),\n",
    "        xosc.LanePosition(40, 2.5, 1, 0),\n",
    "        xosc.LanePosition(30, 2.5, 1, 0),\n",
    "]\n",
    "polyline = xosc.Polyline(times, positions)\n",
    "camera_drone_trajectory = xosc.Trajectory(CAMERA_DRONE_ID + \",start_follow_trajectory\", closed=False)\n",
    "camera_drone_trajectory.add_shape(polyline)\n",
    "camera_drone_follow_trajectory = xosc.FollowTrajectoryAction(\n",
    "\tcamera_drone_trajectory,\n",
    "\txosc.FollowingMode.position,\n",
    "\txosc.ReferenceContext.relative,\n",
    "\t1,\n",
    "\t0\n",
    ")\n",
    "camera_drone_set_speed = xosc.AbsoluteSpeedAction(\n",
    "\tcamera_drone_speed,\n",
    "\txosc.TransitionDynamics(\n",
    "\t\txosc.DynamicsShapes.linear,\n",
    "\t\txosc.DynamicsDimension.rate,\n",
    "\t\tcamera_drone_acceleration\n",
    "\t),\n",
    ")\n",
    "camera_drone_brake = xosc.AbsoluteSpeedAction(\n",
    "\t0,\n",
    "\txosc.TransitionDynamics(\n",
    "\t\txosc.DynamicsShapes.linear,\n",
    "\t\txosc.DynamicsDimension.rate,\n",
    "\t\t-camera_drone_retardation\n",
    "\t),\n",
    ")\n",
    "camera_drone_reach_stop_position = xosc.EntityTrigger(\n",
    "\tname=CAMERA_DRONE_ID + \",reach_stop_position\",\n",
    "\tdelay=0,\n",
    "\tconditionedge=xosc.ConditionEdge.none,\n",
    "\tentitycondition=xosc.ReachPositionCondition(camera_drone_brake_position, 1),\n",
    "\ttriggerentity=CAMERA_DRONE_ID\n",
    ")\n",
    "camera_drone_brake_event = xosc.Event(\n",
    "\tCAMERA_DRONE_ID + \",brake_event\",\n",
    "\txosc.Priority.parallel\n",
    ")\n",
    "camera_drone_brake_event.add_trigger(camera_drone_reach_stop_position)\n",
    "camera_drone_brake_event.add_action(CAMERA_DRONE_ID + \",brake_to_stop\", camera_drone_brake)\n",
    "camera_drone_maneuver.add_event(camera_drone_brake_event)"
   ]
  },
  {
   "cell_type": "code",
   "execution_count": 9,
   "metadata": {},
   "outputs": [
    {
     "data": {
      "text/plain": [
       "<scenariogeneration.xosc.storyboard.Maneuver at 0x7fa6c0b63a30>"
      ]
     },
     "execution_count": 9,
     "metadata": {},
     "output_type": "execute_result"
    }
   ],
   "source": [
    "# Carrier triggers UFO\n",
    "carrier_reached_ufo_trigger_position = xosc.EntityTrigger(\n",
    "\tname=CARRIER_ID + \",reached_ufo_trigger_position\",\n",
    "\tdelay=0,\n",
    "\tconditionedge=xosc.ConditionEdge.none,\n",
    "\tentitycondition=xosc.ReachPositionCondition(carrier_trigger_positions[UFO_ID], 1),\n",
    "\ttriggerentity=CARRIER_ID\n",
    ")\n",
    "\n",
    "ufo_move_event = xosc.Event(\n",
    "\tUFO_ID + \",start_move_event\",\n",
    "\txosc.Priority.parallel\n",
    ")\n",
    "ufo_move_event.add_trigger(carrier_reached_ufo_trigger_position)\n",
    "ufo_move_event.add_action(UFO_ID + \",start_follow_trajectory\", ufo_follow_trajectory)\n",
    "ufo_move_event.add_action(UFO_ID + \",set_speed\", ufo_set_speed)\n",
    "ufo_maneuver.add_event(ufo_move_event)"
   ]
  },
  {
   "cell_type": "code",
   "execution_count": 10,
   "metadata": {},
   "outputs": [
    {
     "data": {
      "text/plain": [
       "<scenariogeneration.xosc.storyboard.Maneuver at 0x7fa6c0b63d00>"
      ]
     },
     "execution_count": 10,
     "metadata": {},
     "output_type": "execute_result"
    }
   ],
   "source": [
    "# Carrier triggers camera drone\n",
    "carrier_reached_camera_drone_trigger_position = xosc.EntityTrigger(\n",
    "\tname=CARRIER_ID + \",reached_camera_drone_trigger_position\",\n",
    "\tdelay=0,\n",
    "\tconditionedge=xosc.ConditionEdge.none,\n",
    "\tentitycondition=xosc.ReachPositionCondition(carrier_trigger_positions[CAMERA_DRONE_ID], 1),\n",
    "\ttriggerentity=CARRIER_ID\n",
    ")\n",
    "\n",
    "camera_drone_move_event = xosc.Event(\n",
    "\tCAMERA_DRONE_ID + \",start_move_event\",\n",
    "\txosc.Priority.parallel\n",
    ")\n",
    "camera_drone_move_event.add_trigger(carrier_reached_camera_drone_trigger_position)\n",
    "camera_drone_move_event.add_action(CAMERA_DRONE_ID + \",start_follow_trajectory\", camera_drone_follow_trajectory)\n",
    "camera_drone_move_event.add_action(CAMERA_DRONE_ID + \",set_speed\", camera_drone_set_speed)\n",
    "camera_drone_maneuver.add_event(camera_drone_move_event)"
   ]
  },
  {
   "cell_type": "code",
   "execution_count": 11,
   "metadata": {},
   "outputs": [
    {
     "data": {
      "text/plain": [
       "<scenariogeneration.xosc.storyboard.Maneuver at 0x7fa6c0b63be0>"
      ]
     },
     "execution_count": 11,
     "metadata": {},
     "output_type": "execute_result"
    }
   ],
   "source": [
    "# Carrier object triggers DENM warning\n",
    "\n",
    "### DENM Action ###\n",
    "carrier_high_speed_detected = xosc.EntityTrigger(\n",
    "\tname=CARRIER_ID + \",high_speed_detected\",\n",
    "\tdelay=0,\n",
    "\tconditionedge=xosc.ConditionEdge.none,\n",
    "\tentitycondition=xosc.SpeedCondition(denm_trigger_speed, xosc.Rule.greaterThan),\n",
    "\ttriggerentity=CARRIER_ID)\n",
    "\n",
    "carrier_denm_action = xosc.VisibilityAction(graphics=True, traffic=True, sensors=True)\n",
    "\n",
    "denm_osc_event = xosc.Event(\n",
    "\tCARRIER_ID + \",high_speed_event\",\n",
    "\txosc.Priority.parallel,\n",
    ")\n",
    "\n",
    "denm_osc_event.add_trigger(carrier_high_speed_detected)\n",
    "denm_osc_event.add_action(CARRIER_ID + \",send_denm\",\n",
    "\t\t\t\t\t\t\tcarrier_denm_action)\n",
    "carrier_maneuver.add_event(denm_osc_event)"
   ]
  },
  {
   "cell_type": "code",
   "execution_count": 12,
   "metadata": {},
   "outputs": [],
   "source": [
    "# Collect into a scenario and write to file\n",
    "ufo_maneuver_group.add_maneuver(ufo_maneuver)\n",
    "carrier_maneuver_group.add_maneuver(carrier_maneuver)\n",
    "camera_drone_maneuver_group.add_maneuver(camera_drone_maneuver)\n",
    "\n",
    "osc_act.add_maneuver_group(ufo_maneuver_group)\n",
    "osc_act.add_maneuver_group(carrier_maneuver_group)\n",
    "osc_act.add_maneuver_group(camera_drone_maneuver_group)\n",
    "\n",
    "osc_storyboard.add_act(osc_act)\n",
    "osc_file = xosc.Scenario(\n",
    "\t\tname=SCENARIO_NAME,\n",
    "\t\tauthor=\"AstaZero 1.0\",\n",
    "\t\tparameters=osc_params,\n",
    "\t\tentities=osc_entities,\n",
    "\t\tstoryboard=osc_storyboard,\n",
    "\t\troadnetwork=osc_road_network,\n",
    "\t\tcatalog=osc_catalogs\n",
    "\t)\n",
    "\n",
    "osc_file.write_xml(SCENARIO_FILE_NAME)"
   ]
  }
 ],
 "metadata": {
  "kernelspec": {
   "display_name": "Python 3",
   "language": "python",
   "name": "python3"
  },
  "language_info": {
   "codemirror_mode": {
    "name": "ipython",
    "version": 3
   },
   "file_extension": ".py",
   "mimetype": "text/x-python",
   "name": "python",
   "nbconvert_exporter": "python",
   "pygments_lexer": "ipython3",
   "version": "3.8.10"
  },
  "orig_nbformat": 4,
  "vscode": {
   "interpreter": {
    "hash": "916dbcbb3f70747c44a77c7bcd40155683ae19c65e1c03b4aa3499c5328201f1"
   }
  }
 },
 "nbformat": 4,
 "nbformat_minor": 2
}
