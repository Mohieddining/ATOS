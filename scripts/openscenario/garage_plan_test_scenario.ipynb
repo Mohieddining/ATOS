{
 "cells": [
  {
   "cell_type": "code",
   "execution_count": 11,
   "metadata": {},
   "outputs": [],
   "source": [
    "from scenariogeneration import xosc"
   ]
  },
  {
   "cell_type": "code",
   "execution_count": 12,
   "metadata": {},
   "outputs": [],
   "source": [
    "# Fixed parameters\n",
    "MONDEO_ID = \"1\"\n",
    "CAMERA_DRONE_ID = \"5\"\n",
    "MONDEO_CATALOG_NAME = \"mondeo\"\n",
    "DRONE_CATALOG_NAME = \"camera_drone\"\n",
    "\n",
    "CATALOG_PATH = \"../Catalogs/Vehicles\"\n",
    "CATALOG_NAME = \"VehicleCatalog\"\n",
    "CONTROLLER_CATALOG_PATH = \"../Catalogs/Controllers\"\n",
    "CONTROLLER_CATALOG_NAME = \"ControllerCatalog\"\n",
    "\n",
    "OPENDRIVE_PATH = \"../odr/GaragePlan.xodr\"\n",
    "SCENARIO_NAME = \"GaragePlanScenario\"\n",
    "SCENARIO_FILE_NAME = SCENARIO_NAME + \".xosc\""
   ]
  },
  {
   "cell_type": "code",
   "execution_count": 13,
   "metadata": {},
   "outputs": [],
   "source": [
    "# Dynamic parameters\n",
    "camera_drone_speed = 30 / 3.6 # m/s\n",
    "camera_drone_acceleration = 1.76 # m/s^2\n",
    "camera_drone_retardation = 1.96 # m/s^2\n",
    "camera_drone_O5_point = xosc.LanePosition(0, 2.5, 1, 2)\n",
    "\n",
    "# Dynamic parameters\n",
    "mondeo_speed = 15 / 3.6 # m/s\n",
    "mondeo_acceleration = 0.51 # m/s^2\n",
    "mondeo_retardation = 2.17 # m/s^2\n",
    "mondeo_O1_point = xosc.LanePosition(5, 0, 1, 1)\n",
    "mondeo_trigger_positions = {\n",
    "\tCAMERA_DRONE_ID: xosc.LanePosition(2, 0, 1, 1)\n",
    "}\n",
    "mondeo_accelerate_position = mondeo_O1_point\n",
    "mondeo_brake_position = xosc.LanePosition(15, 0, 1, 0)\n",
    "\n",
    "denm_trigger_speed = 10 / 3.6 # m/s"
   ]
  },
  {
   "cell_type": "code",
   "execution_count": 14,
   "metadata": {},
   "outputs": [
    {
     "data": {
      "text/plain": [
       "<scenariogeneration.xosc.storyboard.ManeuverGroup at 0x7f22cf9eeeb0>"
      ]
     },
     "execution_count": 14,
     "metadata": {},
     "output_type": "execute_result"
    }
   ],
   "source": [
    "# Preamble\n",
    "init = xosc.Init()\n",
    "osc_params = xosc.ParameterDeclarations()\n",
    "osc_catalogs = xosc.Catalog()\n",
    "osc_catalogs.add_catalog(CATALOG_NAME, CATALOG_PATH)\n",
    "osc_catalogs.add_catalog(CONTROLLER_CATALOG_NAME, CONTROLLER_CATALOG_PATH)\n",
    "osc_road_network = xosc.RoadNetwork(roadfile=OPENDRIVE_PATH)\n",
    "osc_entities = xosc.Entities()\n",
    "osc_storyboard = xosc.StoryBoard(init)\n",
    "osc_act = xosc.Act(\"start\")\n",
    "\n",
    "camera_drone_maneuver_group = xosc.ManeuverGroup(CAMERA_DRONE_ID + \",maneuver_group\")\n",
    "camera_drone_maneuver = xosc.Maneuver(CAMERA_DRONE_ID + \",maneuver\")\n",
    "camera_drone_maneuver_group.add_actor(CAMERA_DRONE_ID)\n",
    "\n",
    "mondeo_maneuver_group = xosc.ManeuverGroup(MONDEO_ID + \",maneuver_group\")\n",
    "mondeo_maneuver = xosc.Maneuver(MONDEO_ID + \",maneuver\")\n",
    "mondeo_maneuver_group.add_actor(MONDEO_ID)"
   ]
  },
  {
   "cell_type": "code",
   "execution_count": 15,
   "metadata": {},
   "outputs": [],
   "source": [
    "# Starting position\n",
    "# Starting positions\n",
    "osc_entities.add_scenario_object(MONDEO_ID,\n",
    "\txosc.CatalogReference(CATALOG_NAME, MONDEO_CATALOG_NAME),\n",
    "\txosc.CatalogReference(CONTROLLER_CATALOG_NAME, \"externalController\"))\n",
    "osc_entities = osc_entities.add_scenario_object(\n",
    "\tCAMERA_DRONE_ID,\n",
    "\txosc.CatalogReference(CATALOG_NAME, DRONE_CATALOG_NAME),\n",
    "\txosc.CatalogReference(CONTROLLER_CATALOG_NAME, \"externalController\"))\n",
    "drone_start_teleport = xosc.TeleportAction(camera_drone_O5_point)\n",
    "drone_set_speed = xosc.AbsoluteSpeedAction(\n",
    "\tcamera_drone_speed,\n",
    "\txosc.TransitionDynamics(\n",
    "\t\txosc.DynamicsShapes.linear,\n",
    "\t\txosc.DynamicsDimension.rate,\n",
    "\t\tcamera_drone_acceleration\n",
    "\t)\n",
    ")\n",
    "\n",
    "mondeo_start_teleport = xosc.TeleportAction(mondeo_O1_point)\n",
    "mondeo_set_speed = xosc.AbsoluteSpeedAction(\n",
    "\tmondeo_speed,\n",
    "\txosc.TransitionDynamics(\n",
    "\t\txosc.DynamicsShapes.linear,\n",
    "\t\txosc.DynamicsDimension.rate,\n",
    "\t\tmondeo_acceleration\n",
    "\t),\n",
    ")\n",
    "\n",
    "init.add_init_action(CAMERA_DRONE_ID, drone_start_teleport)\n",
    "init.add_init_action(CAMERA_DRONE_ID, drone_set_speed)\n",
    "init.add_init_action(MONDEO_ID, mondeo_start_teleport)\n",
    "init.add_init_action(MONDEO_ID, mondeo_set_speed)"
   ]
  },
  {
   "cell_type": "code",
   "execution_count": 16,
   "metadata": {},
   "outputs": [
    {
     "data": {
      "text/plain": [
       "<scenariogeneration.xosc.storyboard.Maneuver at 0x7f22cf9eedc0>"
      ]
     },
     "execution_count": 16,
     "metadata": {},
     "output_type": "execute_result"
    }
   ],
   "source": [
    "# Camera drone movement profile:\n",
    "# accelerate to top speed,\n",
    "# follow a trajectory,\n",
    "# then decelerate to a stop\n",
    "times = []\n",
    "positions = [\n",
    "\txosc.LanePosition(0, 2.5, 1, 2),\n",
    "\txosc.LanePosition(14.9, 2.5, 1, 2),\n",
    "\txosc.LanePosition(0, 2.5, 1, 3),\n",
    "\txosc.LanePosition(10, 2.5, 1, 3)\n",
    "]\n",
    "polyline = xosc.Polyline(times, positions)\n",
    "camera_drone_trajectory = xosc.Trajectory(CAMERA_DRONE_ID + \",start_follow_trajectory\", closed=False)\n",
    "camera_drone_trajectory.add_shape(polyline)\n",
    "camera_drone_follow_trajectory = xosc.FollowTrajectoryAction(\n",
    "\tcamera_drone_trajectory,\n",
    "\txosc.FollowingMode.position,\n",
    "\txosc.ReferenceContext.relative,\n",
    "\t1,\n",
    "\t0\n",
    ")\n",
    "camera_drone_set_speed = xosc.AbsoluteSpeedAction(\n",
    "\tcamera_drone_speed,\n",
    "\txosc.TransitionDynamics(\n",
    "\t\txosc.DynamicsShapes.linear,\n",
    "\t\txosc.DynamicsDimension.rate,\n",
    "\t\tcamera_drone_acceleration\n",
    "\t),\n",
    ")\n",
    "camera_drone_brake = xosc.AbsoluteSpeedAction(\n",
    "\t0,\n",
    "\txosc.TransitionDynamics(\n",
    "\t\txosc.DynamicsShapes.linear,\n",
    "\t\txosc.DynamicsDimension.rate,\n",
    "\t\t-camera_drone_retardation\n",
    "\t),\n",
    ")\n",
    "\n",
    "# Stop\n",
    "drone_brake = xosc.AbsoluteSpeedAction(\n",
    "\t0,\n",
    "\txosc.TransitionDynamics(\n",
    "\t\txosc.DynamicsShapes.linear,\n",
    "\t\txosc.DynamicsDimension.time,\n",
    "\t\t-camera_drone_acceleration\n",
    "\t)\n",
    ")\n",
    "drone_reach_brake_position = xosc.EntityTrigger(\n",
    "    name=CAMERA_DRONE_ID + \",reach_brake_position\",\n",
    "    delay=0,\n",
    "    conditionedge=xosc.ConditionEdge.rising,\n",
    "    entitycondition=xosc.ReachPositionCondition(positions[-1], 1.0), # tolerance\n",
    "    triggerentity=CAMERA_DRONE_ID\n",
    ")\n",
    "drone_brake_event = xosc.Event(\n",
    "\tCAMERA_DRONE_ID + \",stop_event\",\n",
    "    xosc.Priority.overwrite,\n",
    ")\n",
    "\n",
    "drone_brake_event.add_trigger(drone_reach_brake_position)\n",
    "drone_brake_event.add_action(CAMERA_DRONE_ID + \",brake_to_stop\", drone_brake)\n",
    "camera_drone_maneuver.add_event(drone_brake_event)"
   ]
  },
  {
   "cell_type": "code",
   "execution_count": 17,
   "metadata": {},
   "outputs": [
    {
     "data": {
      "text/plain": [
       "<scenariogeneration.xosc.storyboard.Maneuver at 0x7f22cf9eef10>"
      ]
     },
     "execution_count": 17,
     "metadata": {},
     "output_type": "execute_result"
    }
   ],
   "source": [
    "# Mondeo movement profile:\n",
    "# accelerate to top speed,\n",
    "# slow down before turn,\n",
    "# turn,\n",
    "# accelerate to top speed,\n",
    "\n",
    "# Start moving\n",
    "times = []\n",
    "positions = [\n",
    "\tmondeo_O1_point,\n",
    "\tmondeo_brake_position\n",
    "]\n",
    "polyline = xosc.Polyline(times, positions)\n",
    "trajectory = xosc.Trajectory(MONDEO_ID + \",init_follow_trajectory\", closed=False)\n",
    "trajectory.add_shape(polyline)\n",
    "mondeo_follow_trajectory = xosc.FollowTrajectoryAction(\n",
    "\ttrajectory,\n",
    "\txosc.FollowingMode.position,\n",
    "\txosc.ReferenceContext.relative,\n",
    "\t1,\n",
    "\t0\n",
    ")\n",
    "mondeo_scenario_started =  xosc.ValueTrigger(\n",
    "\tMONDEO_ID + \",scenario_started\",\n",
    "\t0,\n",
    "\txosc.ConditionEdge.none,\n",
    "\txosc.SimulationTimeCondition(0, xosc.Rule.greaterThan)\n",
    ")\n",
    "mondeo_follow_trajectory_event = xosc.Event(\n",
    "\tMONDEO_ID + \",mondeo_follow_trajectory_event\",\n",
    "\txosc.Priority.parallel\n",
    ")\n",
    "mondeo_follow_trajectory_event.add_trigger(mondeo_scenario_started)\n",
    "mondeo_follow_trajectory_event.add_action(MONDEO_ID + \",init_follow_trajectory\", mondeo_follow_trajectory)\n",
    "mondeo_maneuver.add_event(mondeo_follow_trajectory_event)\n",
    "\n",
    "# Brake\n",
    "mondeo_brake = xosc.AbsoluteSpeedAction(\n",
    "\t0,\n",
    "\txosc.TransitionDynamics(\n",
    "\t\txosc.DynamicsShapes.linear,\n",
    "\t\txosc.DynamicsDimension.rate,\n",
    "\t\t-mondeo_retardation\n",
    "\t),\n",
    ")\n",
    "mondeo_reach_brake_position = xosc.EntityTrigger(\n",
    "\tMONDEO_ID + \",reach_brake_position\",\n",
    "\tdelay=0,\n",
    "\tconditionedge=xosc.ConditionEdge.none,\n",
    "\tentitycondition=xosc.ReachPositionCondition(mondeo_brake_position, 1),\n",
    "\ttriggerentity=MONDEO_ID\n",
    ")\n",
    "mondeo_brake_event = xosc.Event(\n",
    "\tMONDEO_ID + \",mondeo_brake_event\",\n",
    "\txosc.Priority.parallel\n",
    ")\n",
    "mondeo_brake_event.add_trigger(mondeo_reach_brake_position)\n",
    "mondeo_brake_event.add_action(MONDEO_ID + \",brake_to_stop\", mondeo_brake)\n",
    "mondeo_maneuver.add_event(mondeo_brake_event)"
   ]
  },
  {
   "cell_type": "code",
   "execution_count": 18,
   "metadata": {},
   "outputs": [
    {
     "data": {
      "text/plain": [
       "<scenariogeneration.xosc.storyboard.Maneuver at 0x7f22cf9eedc0>"
      ]
     },
     "execution_count": 18,
     "metadata": {},
     "output_type": "execute_result"
    }
   ],
   "source": [
    "# Mondeo triggers camera drone\n",
    "mondeo_reached_camera_drone_trigger_position = xosc.EntityTrigger(\n",
    "\tname=MONDEO_ID + \",reached_camera_drone_trigger_position\",\n",
    "\tdelay=0,\n",
    "\tconditionedge=xosc.ConditionEdge.none,\n",
    "\tentitycondition=xosc.ReachPositionCondition(mondeo_trigger_positions[CAMERA_DRONE_ID], 2),\n",
    "\ttriggerentity=MONDEO_ID\n",
    ")\n",
    "\n",
    "camera_drone_move_event = xosc.Event(\n",
    "\tCAMERA_DRONE_ID + \",start_move_event\",\n",
    "\txosc.Priority.parallel\n",
    ")\n",
    "camera_drone_move_event.add_trigger(mondeo_reached_camera_drone_trigger_position)\n",
    "camera_drone_move_event.add_action(CAMERA_DRONE_ID + \",start_follow_trajectory\", camera_drone_follow_trajectory)\n",
    "camera_drone_move_event.add_action(CAMERA_DRONE_ID + \",set_speed\", camera_drone_set_speed)\n",
    "camera_drone_maneuver.add_event(camera_drone_move_event)"
   ]
  },
  {
   "cell_type": "code",
   "execution_count": 19,
   "metadata": {},
   "outputs": [
    {
     "data": {
      "text/plain": [
       "<scenariogeneration.xosc.storyboard.Maneuver at 0x7f22cf9eef10>"
      ]
     },
     "execution_count": 19,
     "metadata": {},
     "output_type": "execute_result"
    }
   ],
   "source": [
    "# Mondeo object triggers DENM warning\n",
    "\n",
    "### DENM Action ###\n",
    "mondeo_high_speed_detected = xosc.EntityTrigger(\n",
    "\tname=MONDEO_ID + \",high_speed_detected\",\n",
    "\tdelay=0,\n",
    "\tconditionedge=xosc.ConditionEdge.none,\n",
    "\tentitycondition=xosc.SpeedCondition(denm_trigger_speed, xosc.Rule.greaterThan),\n",
    "\ttriggerentity=MONDEO_ID)\n",
    "\n",
    "mondeo_denm_action = xosc.VisibilityAction(graphics=True, traffic=True, sensors=True)\n",
    "\n",
    "denm_osc_event = xosc.Event(\n",
    "\tMONDEO_ID + \",high_speed_event\",\n",
    "\txosc.Priority.parallel,\n",
    ")\n",
    "\n",
    "denm_osc_event.add_trigger(mondeo_high_speed_detected)\n",
    "denm_osc_event.add_action(MONDEO_ID + \",send_denm\",\n",
    "\t\t\t\t\t\t\tmondeo_denm_action)\n",
    "mondeo_maneuver.add_event(denm_osc_event)"
   ]
  },
  {
   "cell_type": "code",
   "execution_count": 20,
   "metadata": {},
   "outputs": [],
   "source": [
    "# Collect into a scenario and write to file\n",
    "mondeo_maneuver_group.add_maneuver(mondeo_maneuver)\n",
    "camera_drone_maneuver_group.add_maneuver(camera_drone_maneuver)\n",
    "osc_act.add_maneuver_group(mondeo_maneuver_group)\n",
    "osc_act.add_maneuver_group(camera_drone_maneuver_group)\n",
    "osc_storyboard.add_act(osc_act)\n",
    "osc_file = xosc.Scenario(\n",
    "\t\tname=SCENARIO_NAME,\n",
    "\t\tauthor=\"AstaZero 1.0\",\n",
    "\t\tparameters=osc_params,\n",
    "\t\tentities=osc_entities,\n",
    "\t\tstoryboard=osc_storyboard,\n",
    "\t\troadnetwork=osc_road_network,\n",
    "\t\tcatalog=osc_catalogs\n",
    "\t)\n",
    "\n",
    "osc_file.write_xml(SCENARIO_FILE_NAME)"
   ]
  }
 ],
 "metadata": {
  "kernelspec": {
   "display_name": "Python 3",
   "language": "python",
   "name": "python3"
  },
  "language_info": {
   "codemirror_mode": {
    "name": "ipython",
    "version": 3
   },
   "file_extension": ".py",
   "mimetype": "text/x-python",
   "name": "python",
   "nbconvert_exporter": "python",
   "pygments_lexer": "ipython3",
   "version": "3.8.10"
  },
  "orig_nbformat": 4,
  "vscode": {
   "interpreter": {
    "hash": "e7370f93d1d0cde622a1f8e1c04877d8463912d04d973331ad4851f04de6915a"
   }
  }
 },
 "nbformat": 4,
 "nbformat_minor": 2
}
